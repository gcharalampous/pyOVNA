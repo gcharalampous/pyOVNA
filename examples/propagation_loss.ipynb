{
 "cells": [
  {
   "cell_type": "code",
   "execution_count": null,
   "id": "8cf540d6",
   "metadata": {},
   "outputs": [],
   "source": [
    "import sys\n",
    "import os\n",
    "\n",
    "# Add the path to the parent directory (where pyOVNA/ lives)\n",
    "sys.path.insert(0, os.path.abspath('..'))\n",
    "\n",
    "from pyOVNA.processing import read_ovna_file\n",
    "from pyOVNA.fitting import fit_propagation_length, fit_spectrum_peaks\n",
    "\n",
    "\n"
   ]
  },
  {
   "cell_type": "code",
   "execution_count": null,
   "id": "74c89ada",
   "metadata": {},
   "outputs": [],
   "source": [
    "# Load the Propagation Loss Measurements for 500nm waveguide\n",
    "\n",
    "\n",
    "file_path = ['./data/R1C2S1_spiral_W0p5_L3000_R50.OVNA4', \n",
    "             './data/R1C2S1_spiral_W0p5_L6000_R50.OVNA4',\n",
    "             './data/R1C2S1_spiral_W0p5_L10000_R50.OVNA4']\n",
    "\n",
    "# Load the file names\n",
    "labels = [os.path.splitext(os.path.basename(path))[0] for path in file_path]\n",
    "\n",
    "# Distance Points for peaks Required for Fitting\n",
    "distance_points = [2000,1000,1000]\n",
    "propagation_length = [0.3000, 0.6000, 1.0020] \n",
    "    \n",
    "# Process the file and extract data for each file\n",
    "data = read_ovna_file(file_path)\n",
    "\n",
    "avg_loss = avg_loss = fit_spectrum_peaks(distance_points=distance_points, raw_spectrum=data, labels=labels)\n",
    "\n",
    "\n",
    "# Fit the propagation loss data\n",
    "slope, intercept, ax = fit_propagation_length(x_data=propagation_length, y_data=avg_loss)\n",
    "print(f\"Slope: {slope}, Intercept: {intercept}\")\n",
    "ax.set_title('Waveguide width 0.5um')\n",
    "\n"
   ]
  },
  {
   "cell_type": "code",
   "execution_count": null,
   "id": "718fe5b0",
   "metadata": {},
   "outputs": [],
   "source": [
    "\n",
    "# Load the Propagation Loss Measurements for 1.0μm waveguide\n",
    "\n",
    "\n",
    "file_path = ['./data/R1C2S1_spiral_W1p0_L3000_R50.OVNA4', \n",
    "             './data/R1C2S1_spiral_W1p0_L6000_R50.OVNA4',\n",
    "             './data/R1C2S1_spiral_W1p0_L10000_R50.OVNA4']\n",
    "\n",
    "# Distance Points for peaks Required for Fitting\n",
    "distance_points = [1000,1000,1000]\n",
    "propagation_length = [0.3000, 0.6000, 1.0020] \n",
    "avg_loss = [0]*(len(file_path))\n",
    "    \n",
    "# Process the file and extract data for each file\n",
    "data = read_ovna_file(file_path)\n",
    "\n",
    "    \n",
    "avg_loss = avg_loss = fit_spectrum_peaks(distance_points=distance_points, raw_spectrum=data, labels=labels)\n",
    "\n",
    "\n",
    "# Fit the propagation loss data\n",
    "slope, intercept, ax = fit_propagation_length(x_data=propagation_length, y_data=avg_loss)\n",
    "ax.set_title('Waveguide width 1.0um')\n",
    "print(f\"Slope: {slope}, Intercept: {intercept}\")\n"
   ]
  }
 ],
 "metadata": {
  "kernelspec": {
   "display_name": "Python 3",
   "language": "python",
   "name": "python3"
  },
  "language_info": {
   "codemirror_mode": {
    "name": "ipython",
    "version": 3
   },
   "file_extension": ".py",
   "mimetype": "text/x-python",
   "name": "python",
   "nbconvert_exporter": "python",
   "pygments_lexer": "ipython3",
   "version": "3.10.12"
  }
 },
 "nbformat": 4,
 "nbformat_minor": 5
}
