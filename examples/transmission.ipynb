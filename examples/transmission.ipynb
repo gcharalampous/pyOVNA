{
 "cells": [
  {
   "cell_type": "code",
   "execution_count": null,
   "id": "8cf540d6",
   "metadata": {},
   "outputs": [],
   "source": [
    "import sys\n",
    "import os\n",
    "\n",
    "# Add the path to the parent directory (where pyOVNA/ lives)\n",
    "sys.path.insert(0, os.path.abspath('..'))\n",
    "\n",
    "from pyOVNA.processing import read_ovna_file, fit_spectrum_peaks\n"
   ]
  },
  {
   "cell_type": "code",
   "execution_count": null,
   "id": "74c89ada",
   "metadata": {},
   "outputs": [],
   "source": [
    "# Load the Transmission Loss Measurements for 750nm straight waveguide\n",
    "\n",
    "\n",
    "file_path = ['./data/R3C2S2_straight_wg_W0p75_tp_200nm.OVNA4',]\n",
    "\n",
    "# Distance Points for peaks Required for Fitting per sample\n",
    "distance_points = [2000,]\n",
    "    \n",
    "# Process the file and extract data for each file\n",
    "data = read_ovna_file(file_path)\n",
    "\n",
    "labels = [os.path.splitext(os.path.basename(path))[0] for path in file_path]\n",
    "avg_loss = fit_spectrum_peaks(distance_points=distance_points, raw_spectrum=data, labels=labels)\n"
   ]
  }
 ],
 "metadata": {
  "kernelspec": {
   "display_name": "Python 3",
   "language": "python",
   "name": "python3"
  },
  "language_info": {
   "codemirror_mode": {
    "name": "ipython",
    "version": 3
   },
   "file_extension": ".py",
   "mimetype": "text/x-python",
   "name": "python",
   "nbconvert_exporter": "python",
   "pygments_lexer": "ipython3",
   "version": "3.10.12"
  }
 },
 "nbformat": 4,
 "nbformat_minor": 5
}
